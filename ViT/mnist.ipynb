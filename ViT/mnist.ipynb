{
 "cells": [
  {
   "cell_type": "code",
   "execution_count": 1,
   "id": "2d22d469043d758c",
   "metadata": {
    "ExecuteTime": {
     "end_time": "2023-11-07T19:42:00.031150Z",
     "start_time": "2023-11-07T19:42:00.027520Z"
    },
    "collapsed": false
   },
   "outputs": [],
   "source": [
    "import torch\n",
    "import torchvision\n",
    "\n",
    "from model import ViT, RegressionHead, ClassificationHead\n",
    "from rotationPrediction import RotationPredictionDataset\n",
    "\n",
    "import matplotlib.pyplot as plt\n",
    "from tqdm.notebook import tqdm"
   ]
  },
  {
   "cell_type": "code",
   "execution_count": 2,
   "id": "3493364aff598e19",
   "metadata": {
    "ExecuteTime": {
     "end_time": "2023-11-07T19:42:00.677632Z",
     "start_time": "2023-11-07T19:42:00.669320Z"
    },
    "collapsed": false
   },
   "outputs": [
    {
     "data": {
      "text/plain": [
       "<torch._C.Generator at 0x10cd10a50>"
      ]
     },
     "execution_count": 2,
     "metadata": {},
     "output_type": "execute_result"
    }
   ],
   "source": [
    "n_epochs = 3\n",
    "batch_size_train = 64\n",
    "batch_size_test = 1000\n",
    "learning_rate = 0.01\n",
    "momentum = 0.5\n",
    "log_interval = 10\n",
    "img_size = 56\n",
    "\n",
    "random_seed = 1\n",
    "torch.backends.cudnn.enabled = False\n",
    "torch.manual_seed(random_seed)"
   ]
  },
  {
   "cell_type": "code",
   "execution_count": 3,
   "id": "initial_id",
   "metadata": {
    "ExecuteTime": {
     "end_time": "2023-11-07T19:42:01.626945Z",
     "start_time": "2023-11-07T19:42:01.585015Z"
    },
    "collapsed": true
   },
   "outputs": [
    {
     "data": {
      "text/plain": [
       "\"\\n\\ntrain_loader = torch.utils.data.DataLoader(\\n  torchvision.datasets.FashionMNIST('./images/train', train=True, download=True,\\n                             transform=torchvision.transforms.Compose([\\n                                torchvision.transforms.Resize((img_size, img_size)),\\n                                torchvision.transforms.ToTensor(),\\n                                torchvision.transforms.Normalize(\\n                                 (0.1307,), (0.3081,))\\n                             ])),\\n  batch_size=batch_size_train, shuffle=True)\\n\\ntest_loader = torch.utils.data.DataLoader(\\n  torchvision.datasets.FashionMNIST('./images/test', train=False, download=True,\\n                             transform=torchvision.transforms.Compose([\\n                                 torchvision.transforms.Resize((img_size, img_size)),\\n                                 torchvision.transforms.ToTensor(),\\n                                 torchvision.transforms.Normalize(\\n                                 (0.1307,), (0.3081,))\\n                             ])),\\n  batch_size=batch_size_test, shuffle=True)\\n\\n\""
      ]
     },
     "execution_count": 3,
     "metadata": {},
     "output_type": "execute_result"
    }
   ],
   "source": [
    "\n",
    "device = torch.device(\"cuda:0\" if torch.cuda.is_available() else \"mps\" if torch.backends.mps.is_available() else \"cpu\")\n",
    "print(device)\n",
    "pretext_dataset = RotationPredictionDataset(root='./images/train', train=True, download=True,\n",
    "                                           transform=torchvision.transforms.Compose([\n",
    "                                               torchvision.transforms.Resize((img_size, img_size)),\n",
    "                                               torchvision.transforms.ToTensor(),\n",
    "                                               torchvision.transforms.Normalize((0.1307,), (0.3081,))\n",
    "                                           ]))\n",
    "\n",
    "\n",
    "train_loader = torch.utils.data.DataLoader(pretext_dataset, batch_size=batch_size_train, shuffle=True)\n",
    "\n",
    "classification_train_loader = torch.utils.data.DataLoader(torchvision.datasets.FashionMNIST('./images/train', train=True, download=True,\n",
    "                                            transform=torchvision.transforms.Compose([\n",
    "                                                torchvision.transforms.Resize((img_size, img_size)),\n",
    "                                                torchvision.transforms.ToTensor(),\n",
    "                                                torchvision.transforms.Normalize((0.1307,), (0.3081,))\n",
    "                                            ])), batch_size=batch_size_train, shuffle=True)\n",
    "\n",
    "test_loader = torch.utils.data.DataLoader(torchvision.datasets.FashionMNIST('./images/test', train=False, download=True,\n",
    "                                           transform=torchvision.transforms.Compose([\n",
    "                                               torchvision.transforms.Resize((img_size, img_size)),\n",
    "                                               torchvision.transforms.ToTensor(),\n",
    "                                               torchvision.transforms.Normalize((0.1307,), (0.3081,))\n",
    "                                           ])), batch_size=batch_size_test, shuffle=True)\n",
    "\n",
    "\n",
    "'''\n",
    "\n",
    "train_loader = torch.utils.data.DataLoader(\n",
    "  torchvision.datasets.FashionMNIST('./images/train', train=True, download=True,\n",
    "                             transform=torchvision.transforms.Compose([\n",
    "                                torchvision.transforms.Resize((img_size, img_size)),\n",
    "                                torchvision.transforms.ToTensor(),\n",
    "                                torchvision.transforms.Normalize(\n",
    "                                 (0.1307,), (0.3081,))\n",
    "                             ])),\n",
    "  batch_size=batch_size_train, shuffle=True)\n",
    "\n",
    "test_loader = torch.utils.data.DataLoader(\n",
    "  torchvision.datasets.FashionMNIST('./images/test', train=False, download=True,\n",
    "                             transform=torchvision.transforms.Compose([\n",
    "                                 torchvision.transforms.Resize((img_size, img_size)),\n",
    "                                 torchvision.transforms.ToTensor(),\n",
    "                                 torchvision.transforms.Normalize(\n",
    "                                 (0.1307,), (0.3081,))\n",
    "                             ])),\n",
    "  batch_size=batch_size_test, shuffle=True)\n",
    "\n",
    "'''\n"
   ]
  },
  {
   "cell_type": "code",
   "execution_count": 4,
   "id": "fb0fb9b2f68a6481",
   "metadata": {
    "ExecuteTime": {
     "end_time": "2023-11-07T19:42:20.829670Z",
     "start_time": "2023-11-07T19:42:20.790373Z"
    },
    "collapsed": false
   },
   "outputs": [],
   "source": [
    "encoder = ViT(in_channels=1, n_classes=10, img_size=img_size,\n",
    "            depth=3, emb_size=192)\n",
    "\n",
    "decoder = ClassificationHead(emb_size=192, n_classes=10)\n",
    "\n",
    "regressionModel = torch.nn.Sequential(\n",
    "    encoder, RegressionHead(emb_size=192)\n",
    ")\n",
    "classificationModel = torch.nn.Sequential(\n",
    "    encoder, decoder\n",
    ")\n",
    "\n",
    "rotation_loss = torch.nn.MSELoss()\n",
    "rotation_optimizer = torch.optim.Adam(regressionModel.parameters(), lr=0.0001)\n",
    "\n",
    "classification_loss = torch.nn.CrossEntropyLoss()\n",
    "classification_optimizer = torch.optim.SGD(decoder.parameters(), lr=learning_rate,\n",
    "                            momentum=momentum)"
   ]
  },
  {
   "cell_type": "code",
   "execution_count": 5,
   "id": "7ebda46a69d3137d",
   "metadata": {
    "ExecuteTime": {
     "end_time": "2023-11-07T20:01:23.909435Z",
     "start_time": "2023-11-07T19:42:21.559688Z"
    },
    "collapsed": false
   },
   "outputs": [
    {
     "data": {
      "application/vnd.jupyter.widget-view+json": {
       "model_id": "6dec75fddf24497b802d05e7ce7e40b1",
       "version_major": 2,
       "version_minor": 0
      },
      "text/plain": [
       "  0%|          | 0/938 [00:00<?, ?it/s]"
      ]
     },
     "metadata": {},
     "output_type": "display_data"
    },
    {
     "name": "stderr",
     "output_type": "stream",
     "text": [
      "/Users/erikmyhre/miniconda3/envs/monai/lib/python3.10/site-packages/torch/nn/modules/loss.py:535: UserWarning: Using a target size (torch.Size([1000])) that is different to the input size (torch.Size([1000, 1])). This will likely lead to incorrect results due to broadcasting. Please ensure they have the same size.\n",
      "  return F.mse_loss(input, target, reduction=self.reduction)\n"
     ]
    },
    {
     "name": "stdout",
     "output_type": "stream",
     "text": [
      "\n",
      "Test set: Average loss: 0.0250\n",
      "\n"
     ]
    },
    {
     "data": {
      "application/vnd.jupyter.widget-view+json": {
       "model_id": "5ac3562553d543e4812d3a072d33b0a2",
       "version_major": 2,
       "version_minor": 0
      },
      "text/plain": [
       "  0%|          | 0/938 [00:00<?, ?it/s]"
      ]
     },
     "metadata": {},
     "output_type": "display_data"
    },
    {
     "name": "stdout",
     "output_type": "stream",
     "text": [
      "\n",
      "Test set: Average loss: 0.0263\n",
      "\n"
     ]
    },
    {
     "data": {
      "application/vnd.jupyter.widget-view+json": {
       "model_id": "77dbe29269f14cb0a6f6a2e1c33dd159",
       "version_major": 2,
       "version_minor": 0
      },
      "text/plain": [
       "  0%|          | 0/938 [00:00<?, ?it/s]"
      ]
     },
     "metadata": {},
     "output_type": "display_data"
    },
    {
     "name": "stdout",
     "output_type": "stream",
     "text": [
      "\n",
      "Test set: Average loss: 0.0254\n",
      "\n"
     ]
    }
   ],
   "source": [
    "# training loop\n",
    "'''\n",
    "losses = []\n",
    "accuracies = []\n",
    "\n",
    "for epoch in range(n_epochs):\n",
    "    # train\n",
    "    for batch_idx, (data, target) in enumerate(tqdm(train_loader)):\n",
    "        optimizer.zero_grad()\n",
    "        output = model(data)\n",
    "        \n",
    "        loss_val = loss(output, target)\n",
    "        loss_val.backward()\n",
    "        optimizer.step()\n",
    "        \n",
    "        losses.append(loss_val.item())\n",
    "        accuracies.append((output.argmax(dim=1) == target).float().mean().item())\n",
    "            \n",
    "    # test\n",
    "    test_loss = 0\n",
    "    correct = 0\n",
    "    with torch.no_grad():\n",
    "        for data, target in test_loader:\n",
    "            output = model(data)\n",
    "            test_loss += loss(output, target).item()\n",
    "            pred = output.argmax(dim=1, keepdim=True)\n",
    "            correct += pred.eq(target.view_as(pred)).sum().item()\n",
    "            \n",
    "    test_loss /= len(test_loader.dataset)\n",
    "    print('\\nTest set: Average loss: {:.4f}, Accuracy: {}/{} ({:.0f}%)\\n'\n",
    "          .format(test_loss, correct, len(test_loader.dataset),\n",
    "                  100. * correct / len(test_loader.dataset)))\n",
    "'''\n",
    "\n",
    "regression_losses = []\n",
    "for epoch in range(n_epochs):\n",
    "    regressionModel.train()\n",
    "    for batch_idx, (data, target) in enumerate(tqdm(train_loader)):\n",
    "        rotation_optimizer.zero_grad()\n",
    "        output = regressionModel(data)\n",
    "        #print(output.shape, target.shape)\n",
    "        #print(output, target)\n",
    "        loss_val = rotation_loss(output, target)\n",
    "        #print(loss_val)\n",
    "        \n",
    "        loss_val.backward()\n",
    "        rotation_optimizer.step()\n",
    "\n",
    "        regression_losses.append(loss_val.item())\n",
    "\n",
    "    \n",
    "    test_loss = 0\n",
    "    correct = 0\n",
    "    with torch.no_grad():\n",
    "        for data, target in test_loader:\n",
    "            output = regressionModel(data)\n",
    "            test_loss += rotation_loss(output, target).item()\n",
    "            \n",
    "    test_loss /= len(test_loader.dataset)\n",
    "    print('\\nTest set: Average loss: {:.4f}\\n'\n",
    "          .format(test_loss, correct))\n",
    "\n",
    "\n"
   ]
  },
  {
   "cell_type": "code",
   "execution_count": 6,
   "metadata": {},
   "outputs": [
    {
     "data": {
      "application/vnd.jupyter.widget-view+json": {
       "model_id": "3aa1219abf0a474694bb841d48c13f06",
       "version_major": 2,
       "version_minor": 0
      },
      "text/plain": [
       "  0%|          | 0/938 [00:00<?, ?it/s]"
      ]
     },
     "metadata": {},
     "output_type": "display_data"
    },
    {
     "name": "stdout",
     "output_type": "stream",
     "text": [
      "\n",
      "Test set: Average loss: 0.0022, Accuracy: 3802/10000 (38%)\n",
      "\n"
     ]
    },
    {
     "data": {
      "application/vnd.jupyter.widget-view+json": {
       "model_id": "b259a6f2d5134e3e8f1af5623965f935",
       "version_major": 2,
       "version_minor": 0
      },
      "text/plain": [
       "  0%|          | 0/938 [00:00<?, ?it/s]"
      ]
     },
     "metadata": {},
     "output_type": "display_data"
    },
    {
     "name": "stdout",
     "output_type": "stream",
     "text": [
      "\n",
      "Test set: Average loss: 0.0021, Accuracy: 4092/10000 (41%)\n",
      "\n"
     ]
    },
    {
     "data": {
      "application/vnd.jupyter.widget-view+json": {
       "model_id": "9667d73b9fec40238340cf8a12914bf0",
       "version_major": 2,
       "version_minor": 0
      },
      "text/plain": [
       "  0%|          | 0/938 [00:00<?, ?it/s]"
      ]
     },
     "metadata": {},
     "output_type": "display_data"
    },
    {
     "name": "stdout",
     "output_type": "stream",
     "text": [
      "\n",
      "Test set: Average loss: 0.0021, Accuracy: 4346/10000 (43%)\n",
      "\n"
     ]
    }
   ],
   "source": [
    "classification_losses = []\n",
    "classification_accuracies = []\n",
    "\n",
    "for epoch in range(n_epochs):\n",
    "    for batch_idx, (data, target) in enumerate(tqdm(classification_train_loader)):\n",
    "        classification_optimizer.zero_grad()\n",
    "        output = classificationModel(data)\n",
    "        #print(output.shape, target.shape)\n",
    "        #print(output)\n",
    "        loss_val = classification_loss(output, target)\n",
    "        #print(loss_val)\n",
    "        \n",
    "        loss_val.backward()\n",
    "        classification_optimizer.step()\n",
    "\n",
    "        classification_losses.append(loss_val.item())\n",
    "        classification_accuracies.append((output.argmax(dim=1) == target).float().mean().item())\n",
    "    \n",
    "    test_loss = 0\n",
    "    correct = 0\n",
    "    classificationModel.eval()\n",
    "    with torch.no_grad():\n",
    "        for data, target in test_loader:\n",
    "            output = classificationModel(data)\n",
    "            test_loss += classification_loss(output, target).item()\n",
    "            pred = output.argmax(dim=1, keepdim=True)\n",
    "            correct += pred.eq(target.view_as(pred)).sum().item()\n",
    "\n",
    "    test_loss /= len(test_loader.dataset)\n",
    "    print('\\nTest set: Average loss: {:.4f}, Accuracy: {}/{} ({:.0f}%)\\n'\n",
    "        .format(test_loss, correct, len(test_loader.dataset), 100. * correct / len(test_loader.dataset)))"
   ]
  },
  {
   "cell_type": "code",
   "execution_count": 7,
   "id": "64e710b54c903087",
   "metadata": {
    "ExecuteTime": {
     "end_time": "2023-11-07T20:01:36.418025Z",
     "start_time": "2023-11-07T20:01:36.287272Z"
    },
    "collapsed": false
   },
   "outputs": [
    {
     "data": {
      "image/png": "[encoded data removed]",
      "text/plain": [
       "<Figure size 640x480 with 1 Axes>"
      ]
     },
     "metadata": {},
     "output_type": "display_data"
    }
   ],
   "source": [
    " #plot losses\n",
    "\n",
    "plt.plot(classification_losses)\n",
    "plt.title('Loss')\n",
    "plt.xlabel('batch')\n",
    "plt.ylabel('loss')\n",
    "plt.show()\n",
    "\n",
    "\n"
   ]
  },
  {
   "cell_type": "code",
   "execution_count": 8,
   "id": "fddc34831e5c95f0",
   "metadata": {
    "ExecuteTime": {
     "end_time": "2023-11-07T20:01:39.817629Z",
     "start_time": "2023-11-07T20:01:39.745609Z"
    },
    "collapsed": false
   },
   "outputs": [
    {
     "data": {
      "image/png": "[encoded data removed]",
      "text/plain": [
       "<Figure size 640x480 with 1 Axes>"
      ]
     },
     "metadata": {},
     "output_type": "display_data"
    }
   ],
   "source": [
    "# plot accuracies\n",
    "\n",
    "plt.plot(classification_accuracies)\n",
    "plt.title('Accuracy')\n",
    "plt.xlabel('batch')\n",
    "plt.ylabel('accuracy')\n",
    "plt.show()\n"
   ]
  },
  {
   "cell_type": "code",
   "execution_count": 9,
   "id": "314d132aeaa01685",
   "metadata": {
    "collapsed": false
   },
   "outputs": [
    {
     "data": {
      "application/vnd.jupyter.widget-view+json": {
       "model_id": "ba8471d7874545e7be0510575164e951",
       "version_major": 2,
       "version_minor": 0
      },
      "text/plain": [
       "  0%|          | 0/938 [00:00<?, ?it/s]"
      ]
     },
     "metadata": {},
     "output_type": "display_data"
    },
    {
     "name": "stdout",
     "output_type": "stream",
     "text": [
      "\n",
      "Test set: Average loss: 0.0021, Accuracy: 3550/10000 (36%)\n",
      "\n"
     ]
    },
    {
     "data": {
      "application/vnd.jupyter.widget-view+json": {
       "model_id": "40a7785846854816870e8eb39653c086",
       "version_major": 2,
       "version_minor": 0
      },
      "text/plain": [
       "  0%|          | 0/938 [00:00<?, ?it/s]"
      ]
     },
     "metadata": {},
     "output_type": "display_data"
    },
    {
     "name": "stdout",
     "output_type": "stream",
     "text": [
      "\n",
      "Test set: Average loss: 0.0021, Accuracy: 4373/10000 (44%)\n",
      "\n"
     ]
    },
    {
     "data": {
      "application/vnd.jupyter.widget-view+json": {
       "model_id": "542c878ae7ce4fe2bb65e1d319c62fcd",
       "version_major": 2,
       "version_minor": 0
      },
      "text/plain": [
       "  0%|          | 0/938 [00:00<?, ?it/s]"
      ]
     },
     "metadata": {},
     "output_type": "display_data"
    },
    {
     "name": "stdout",
     "output_type": "stream",
     "text": [
      "\n",
      "Test set: Average loss: 0.0020, Accuracy: 4721/10000 (47%)\n",
      "\n"
     ]
    }
   ],
   "source": [
    "encoder_test = ViT(in_channels=1, n_classes=10, img_size=img_size,\n",
    "            depth=3, emb_size=192)\n",
    "\n",
    "decoder_test = ClassificationHead(emb_size=192, n_classes=10)\n",
    "\n",
    "\n",
    "classificationModel_test = torch.nn.Sequential(\n",
    "    encoder_test, decoder_test\n",
    ")\n",
    "\n",
    "\n",
    "classification_loss_test = torch.nn.CrossEntropyLoss()\n",
    "classification_optimizer_test = torch.optim.SGD(decoder_test.parameters(), lr=learning_rate,\n",
    "                            momentum=momentum)\n",
    "\n",
    "\n",
    "classification_losses_test = []\n",
    "classification_accuracies_test = []\n",
    "\n",
    "for epoch in range(n_epochs):\n",
    "    for batch_idx, (data, target) in enumerate(tqdm(classification_train_loader)):\n",
    "        classification_optimizer_test.zero_grad()\n",
    "        output = classificationModel_test(data)\n",
    "        #print(output.shape, target.shape)\n",
    "        #print(output)\n",
    "        loss_val_test = classification_loss_test(output, target)\n",
    "        #print(loss_val)\n",
    "        \n",
    "        loss_val_test.backward()\n",
    "        classification_optimizer_test.step()\n",
    "\n",
    "        classification_losses_test.append(loss_val.item())\n",
    "        classification_accuracies_test.append((output.argmax(dim=1) == target).float().mean().item())\n",
    "    \n",
    "    test_loss_test = 0\n",
    "    correct_test = 0\n",
    "    classificationModel.eval()\n",
    "    with torch.no_grad():\n",
    "        for data, target in test_loader:\n",
    "            output = classificationModel_test(data)\n",
    "            test_loss_test += classification_loss_test(output, target).item()\n",
    "            pred_test = output.argmax(dim=1, keepdim=True)\n",
    "            correct_test += pred_test.eq(target.view_as(pred_test)).sum().item()\n",
    "\n",
    "    test_loss_test /= len(test_loader.dataset)\n",
    "    print('\\nTest set: Average loss: {:.4f}, Accuracy: {}/{} ({:.0f}%)\\n'\n",
    "        .format(test_loss_test, correct_test, len(test_loader.dataset), 100. * correct_test / len(test_loader.dataset)))"
   ]
  },
  {
   "cell_type": "code",
   "execution_count": 10,
   "metadata": {},
   "outputs": [],
   "source": []
  },
  {
   "cell_type": "code",
   "execution_count": null,
   "metadata": {},
   "outputs": [],
   "source": []
  }
 ],
 "metadata": {
  "kernelspec": {
   "display_name": "Python 3",
   "language": "python",
   "name": "python3"
  },
  "language_info": {
   "codemirror_mode": {
    "name": "ipython",
    "version": 3
   },
   "file_extension": ".py",
   "mimetype": "text/x-python",
   "name": "python",
   "nbconvert_exporter": "python",
   "pygments_lexer": "ipython3",
   "version": "3.10.13"
  }
 },
 "nbformat": 4,
 "nbformat_minor": 5
}
