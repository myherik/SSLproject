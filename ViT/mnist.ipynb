{
 "cells": [
  {
   "cell_type": "code",
   "execution_count": 1,
   "id": "2d22d469043d758c",
   "metadata": {
    "ExecuteTime": {
     "end_time": "2023-11-09T09:37:24.180450Z",
     "start_time": "2023-11-09T09:37:22.914053Z"
    },
    "collapsed": false
   },
   "outputs": [],
   "source": [
    "import torch\n",
    "import torchvision\n",
    "\n",
    "from model import ViT, RegressionHead, ClassificationHead\n",
    "from rotationPrediction import RotationPredictionDataset\n",
    "\n",
    "import matplotlib.pyplot as plt\n",
    "from tqdm.notebook import tqdm"
   ]
  },
  {
   "cell_type": "code",
   "execution_count": 2,
   "id": "3493364aff598e19",
   "metadata": {
    "ExecuteTime": {
     "end_time": "2023-11-09T09:37:24.186307Z",
     "start_time": "2023-11-09T09:37:24.181217Z"
    },
    "collapsed": false
   },
   "outputs": [
    {
     "data": {
      "text/plain": [
       "<torch._C.Generator at 0x126820a50>"
      ]
     },
     "execution_count": 2,
     "metadata": {},
     "output_type": "execute_result"
    }
   ],
   "source": [
    "n_epochs = 3\n",
    "batch_size_train = 64\n",
    "batch_size_test = 1000\n",
    "learning_rate = 0.01\n",
    "momentum = 0.5\n",
    "log_interval = 10\n",
    "img_size = 56\n",
    "\n",
    "random_seed = 1\n",
    "torch.backends.cudnn.enabled = False\n",
    "torch.manual_seed(random_seed)"
   ]
  },
  {
   "cell_type": "code",
   "execution_count": 3,
   "id": "initial_id",
   "metadata": {
    "ExecuteTime": {
     "end_time": "2023-11-09T09:37:24.229886Z",
     "start_time": "2023-11-09T09:37:24.199599Z"
    },
    "collapsed": true
   },
   "outputs": [
    {
     "name": "stdout",
     "output_type": "stream",
     "text": [
      "mps\n",
      "Downloading http://fashion-mnist.s3-website.eu-central-1.amazonaws.com/train-images-idx3-ubyte.gz\n",
      "Downloading http://fashion-mnist.s3-website.eu-central-1.amazonaws.com/train-images-idx3-ubyte.gz to ./images/test/RotationPredictionDataset/raw/train-images-idx3-ubyte.gz\n"
     ]
    },
    {
     "name": "stderr",
     "output_type": "stream",
     "text": [
      "100%|██████████| 26421880/26421880 [00:03<00:00, 7768461.34it/s] \n"
     ]
    },
    {
     "name": "stdout",
     "output_type": "stream",
     "text": [
      "Extracting ./images/test/RotationPredictionDataset/raw/train-images-idx3-ubyte.gz to ./images/test/RotationPredictionDataset/raw\n",
      "\n",
      "Downloading http://fashion-mnist.s3-website.eu-central-1.amazonaws.com/train-labels-idx1-ubyte.gz\n",
      "Downloading http://fashion-mnist.s3-website.eu-central-1.amazonaws.com/train-labels-idx1-ubyte.gz to ./images/test/RotationPredictionDataset/raw/train-labels-idx1-ubyte.gz\n"
     ]
    },
    {
     "name": "stderr",
     "output_type": "stream",
     "text": [
      "100%|██████████| 29515/29515 [00:00<00:00, 897493.60it/s]\n"
     ]
    },
    {
     "name": "stdout",
     "output_type": "stream",
     "text": [
      "Extracting ./images/test/RotationPredictionDataset/raw/train-labels-idx1-ubyte.gz to ./images/test/RotationPredictionDataset/raw\n",
      "\n",
      "Downloading http://fashion-mnist.s3-website.eu-central-1.amazonaws.com/t10k-images-idx3-ubyte.gz\n",
      "Downloading http://fashion-mnist.s3-website.eu-central-1.amazonaws.com/t10k-images-idx3-ubyte.gz to ./images/test/RotationPredictionDataset/raw/t10k-images-idx3-ubyte.gz\n"
     ]
    },
    {
     "name": "stderr",
     "output_type": "stream",
     "text": [
      "100%|██████████| 4422102/4422102 [00:00<00:00, 5665880.71it/s]\n"
     ]
    },
    {
     "name": "stdout",
     "output_type": "stream",
     "text": [
      "Extracting ./images/test/RotationPredictionDataset/raw/t10k-images-idx3-ubyte.gz to ./images/test/RotationPredictionDataset/raw\n",
      "\n",
      "Downloading http://fashion-mnist.s3-website.eu-central-1.amazonaws.com/t10k-labels-idx1-ubyte.gz\n",
      "Downloading http://fashion-mnist.s3-website.eu-central-1.amazonaws.com/t10k-labels-idx1-ubyte.gz to ./images/test/RotationPredictionDataset/raw/t10k-labels-idx1-ubyte.gz\n"
     ]
    },
    {
     "name": "stderr",
     "output_type": "stream",
     "text": [
      "100%|██████████| 5148/5148 [00:00<00:00, 5189203.80it/s]"
     ]
    },
    {
     "name": "stdout",
     "output_type": "stream",
     "text": [
      "Extracting ./images/test/RotationPredictionDataset/raw/t10k-labels-idx1-ubyte.gz to ./images/test/RotationPredictionDataset/raw\n",
      "\n"
     ]
    },
    {
     "name": "stderr",
     "output_type": "stream",
     "text": [
      "\n"
     ]
    },
    {
     "data": {
      "text/plain": [
       "\"\\n\\ntrain_loader = torch.utils.data.DataLoader(\\n  torchvision.datasets.FashionMNIST('./images/train', train=True, download=True,\\n                             transform=torchvision.transforms.Compose([\\n                                torchvision.transforms.Resize((img_size, img_size)),\\n                                torchvision.transforms.ToTensor(),\\n                                torchvision.transforms.Normalize(\\n                                 (0.1307,), (0.3081,))\\n                             ])),\\n  batch_size=batch_size_train, shuffle=True)\\n\\ntest_loader = torch.utils.data.DataLoader(\\n  torchvision.datasets.FashionMNIST('./images/test', train=False, download=True,\\n                             transform=torchvision.transforms.Compose([\\n                                 torchvision.transforms.Resize((img_size, img_size)),\\n                                 torchvision.transforms.ToTensor(),\\n                                 torchvision.transforms.Normalize(\\n                                 (0.1307,), (0.3081,))\\n                             ])),\\n  batch_size=batch_size_test, shuffle=True)\\n\\n\""
      ]
     },
     "execution_count": 3,
     "metadata": {},
     "output_type": "execute_result"
    }
   ],
   "source": [
    "\n",
    "device = torch.device(\"cuda:0\" if torch.cuda.is_available() else \"mps\" if torch.backends.mps.is_available() else \"cpu\")\n",
    "print(device)\n",
    "pretext_dataset = RotationPredictionDataset(root='./images/train', train=True, download=True,\n",
    "                                           transform=torchvision.transforms.Compose([\n",
    "                                               torchvision.transforms.Resize((img_size, img_size)),\n",
    "                                               torchvision.transforms.ToTensor(),\n",
    "                                               torchvision.transforms.Normalize((0.1307,), (0.3081,))\n",
    "                                           ]))\n",
    "pretext_dataset_test = RotationPredictionDataset(root='./images/test', train=False, download=True,\n",
    "                                             transform=torchvision.transforms.Compose([\n",
    "                                                  torchvision.transforms.Resize((img_size, img_size)),\n",
    "                                                  torchvision.transforms.ToTensor(),\n",
    "                                                  torchvision.transforms.Normalize((0.1307,), (0.3081,))\n",
    "                                             ]))\n",
    "\n",
    "pretext_dataset_test_loader = torch.utils.data.DataLoader(pretext_dataset_test, batch_size=batch_size_test, shuffle=True)\n",
    "\n",
    "\n",
    "train_loader = torch.utils.data.DataLoader(pretext_dataset, batch_size=batch_size_train, shuffle=True)\n",
    "\n",
    "classification_train_loader = torch.utils.data.DataLoader(torchvision.datasets.FashionMNIST('./images/train', train=True, download=True,\n",
    "                                            transform=torchvision.transforms.Compose([\n",
    "                                                torchvision.transforms.Resize((img_size, img_size)),\n",
    "                                                torchvision.transforms.ToTensor(),\n",
    "                                                torchvision.transforms.Normalize((0.1307,), (0.3081,))\n",
    "                                            ])), batch_size=batch_size_train, shuffle=True)\n",
    "\n",
    "test_loader = torch.utils.data.DataLoader(torchvision.datasets.FashionMNIST('./images/test', train=False, download=True,\n",
    "                                           transform=torchvision.transforms.Compose([\n",
    "                                               torchvision.transforms.Resize((img_size, img_size)),\n",
    "                                               torchvision.transforms.ToTensor(),\n",
    "                                               torchvision.transforms.Normalize((0.1307,), (0.3081,))\n",
    "                                           ])), batch_size=batch_size_test, shuffle=True)\n",
    "\n",
    "\n",
    "'''\n",
    "\n",
    "train_loader = torch.utils.data.DataLoader(\n",
    "  torchvision.datasets.FashionMNIST('./images/train', train=True, download=True,\n",
    "                             transform=torchvision.transforms.Compose([\n",
    "                                torchvision.transforms.Resize((img_size, img_size)),\n",
    "                                torchvision.transforms.ToTensor(),\n",
    "                                torchvision.transforms.Normalize(\n",
    "                                 (0.1307,), (0.3081,))\n",
    "                             ])),\n",
    "  batch_size=batch_size_train, shuffle=True)\n",
    "\n",
    "test_loader = torch.utils.data.DataLoader(\n",
    "  torchvision.datasets.FashionMNIST('./images/test', train=False, download=True,\n",
    "                             transform=torchvision.transforms.Compose([\n",
    "                                 torchvision.transforms.Resize((img_size, img_size)),\n",
    "                                 torchvision.transforms.ToTensor(),\n",
    "                                 torchvision.transforms.Normalize(\n",
    "                                 (0.1307,), (0.3081,))\n",
    "                             ])),\n",
    "  batch_size=batch_size_test, shuffle=True)\n",
    "\n",
    "'''\n"
   ]
  },
  {
   "cell_type": "code",
   "execution_count": 4,
   "id": "fb0fb9b2f68a6481",
   "metadata": {
    "ExecuteTime": {
     "end_time": "2023-11-09T09:37:24.239910Z",
     "start_time": "2023-11-09T09:37:24.230136Z"
    },
    "collapsed": false
   },
   "outputs": [],
   "source": [
    "encoder = ViT(in_channels=1, n_classes=10, img_size=img_size,\n",
    "            depth=3, emb_size=192)\n",
    "\n",
    "decoder = ClassificationHead(emb_size=192, n_classes=10)\n",
    "\n",
    "regressionModel = torch.nn.Sequential(\n",
    "    encoder, RegressionHead(emb_size=192)\n",
    ")\n",
    "classificationModel = torch.nn.Sequential(\n",
    "    encoder, decoder\n",
    ")\n",
    "\n",
    "rotation_loss = torch.nn.CrossEntropyLoss()\n",
    "rotation_optimizer = torch.optim.SGD(regressionModel.parameters(), lr=learning_rate, momentum=momentum)\n",
    "\n",
    "classification_loss = torch.nn.CrossEntropyLoss()\n",
    "classification_optimizer = torch.optim.SGD(decoder.parameters(), lr=learning_rate,\n",
    "                            momentum=momentum)"
   ]
  },
  {
   "cell_type": "code",
   "execution_count": 5,
   "id": "7ebda46a69d3137d",
   "metadata": {
    "ExecuteTime": {
     "end_time": "2023-11-09T09:40:06.047219Z",
     "start_time": "2023-11-09T09:37:24.242735Z"
    },
    "collapsed": false
   },
   "outputs": [
    {
     "data": {
      "application/vnd.jupyter.widget-view+json": {
       "model_id": "b211c263f1f145b5b002057fbbbdee2d",
       "version_major": 2,
       "version_minor": 0
      },
      "text/plain": [
       "  0%|          | 0/938 [00:00<?, ?it/s]"
      ]
     },
     "metadata": {},
     "output_type": "display_data"
    },
    {
     "name": "stdout",
     "output_type": "stream",
     "text": [
      "\n",
      "Test set: Average loss: 0.0011, Accuracy: 7063/10000 (71%)\n",
      "\n"
     ]
    },
    {
     "data": {
      "application/vnd.jupyter.widget-view+json": {
       "model_id": "63729410fe5949d4a8ea7db8e120980e",
       "version_major": 2,
       "version_minor": 0
      },
      "text/plain": [
       "  0%|          | 0/938 [00:00<?, ?it/s]"
      ]
     },
     "metadata": {},
     "output_type": "display_data"
    },
    {
     "name": "stdout",
     "output_type": "stream",
     "text": [
      "\n",
      "Test set: Average loss: 0.0009, Accuracy: 8056/10000 (81%)\n",
      "\n"
     ]
    },
    {
     "data": {
      "application/vnd.jupyter.widget-view+json": {
       "model_id": "8337c6018bb848b6a9d47efc31a84595",
       "version_major": 2,
       "version_minor": 0
      },
      "text/plain": [
       "  0%|          | 0/938 [00:00<?, ?it/s]"
      ]
     },
     "metadata": {},
     "output_type": "display_data"
    },
    {
     "name": "stdout",
     "output_type": "stream",
     "text": [
      "\n",
      "Test set: Average loss: 0.0009, Accuracy: 8657/10000 (87%)\n",
      "\n"
     ]
    }
   ],
   "source": [
    "# training loop\n",
    "'''\n",
    "losses = []\n",
    "accuracies = []\n",
    "\n",
    "for epoch in range(n_epochs):\n",
    "    # train\n",
    "    for batch_idx, (data, target) in enumerate(tqdm(train_loader)):\n",
    "        optimizer.zero_grad()\n",
    "        output = model(data)\n",
    "        \n",
    "        loss_val = loss(output, target)\n",
    "        loss_val.backward()\n",
    "        optimizer.step()\n",
    "        \n",
    "        losses.append(loss_val.item())\n",
    "        accuracies.append((output.argmax(dim=1) == target).float().mean().item())\n",
    "            \n",
    "    # test\n",
    "    test_loss = 0\n",
    "    correct = 0\n",
    "    with torch.no_grad():\n",
    "        for data, target in test_loader:\n",
    "            output = model(data)\n",
    "            test_loss += loss(output, target).item()\n",
    "            pred = output.argmax(dim=1, keepdim=True)\n",
    "            correct += pred.eq(target.view_as(pred)).sum().item()\n",
    "            \n",
    "    test_loss /= len(test_loader.dataset)\n",
    "    print('\\nTest set: Average loss: {:.4f}, Accuracy: {}/{} ({:.0f}%)\\n'\n",
    "          .format(test_loss, correct, len(test_loader.dataset),\n",
    "                  100. * correct / len(test_loader.dataset)))\n",
    "'''\n",
    "\n",
    "regression_losses = []\n",
    "regression_accuracies = []\n",
    "\n",
    "for epoch in range(n_epochs):\n",
    "    regressionModel.train()\n",
    "    for batch_idx, (data, target) in enumerate(tqdm(train_loader)):\n",
    "        rotation_optimizer.zero_grad()\n",
    "        output = regressionModel(data)\n",
    "        #print(output.shape, target.shape)\n",
    "        #print(output, target)\n",
    "        loss_val = rotation_loss(output, target)\n",
    "        #print(loss_val)\n",
    "        \n",
    "        loss_val.backward()\n",
    "        rotation_optimizer.step()\n",
    "\n",
    "        regression_losses.append(loss_val.item())\n",
    "        regression_accuracies.append((output.argmax(dim=1) == target).float().mean().item())\n",
    "\n",
    "    \n",
    "    test_loss = 0\n",
    "    correct = 0\n",
    "    with torch.no_grad():\n",
    "        for data, target in pretext_dataset_test_loader:\n",
    "            output = regressionModel(data)\n",
    "            test_loss += rotation_loss(output, target).item()\n",
    "            pred = output.argmax(dim=1, keepdim=True)\n",
    "            correct += pred.eq(target.view_as(pred)).sum().item()\n",
    "\n",
    "    test_loss /= len(pretext_dataset_test_loader.dataset)\n",
    "    print('\\nTest set: Average loss: {:.4f}, Accuracy: {}/{} ({:.0f}%)\\n'\n",
    "        .format(test_loss, correct, len(pretext_dataset_test_loader.dataset), 100. * correct / len(pretext_dataset_test_loader.dataset)))\n",
    "\n",
    "\n"
   ]
  },
  {
   "cell_type": "code",
   "execution_count": 7,
   "id": "6f17a57ccd57c27e",
   "metadata": {
    "ExecuteTime": {
     "end_time": "2023-11-09T09:43:30.671345Z",
     "start_time": "2023-11-09T09:40:06.049642Z"
    }
   },
   "outputs": [
    {
     "data": {
      "application/vnd.jupyter.widget-view+json": {
       "model_id": "765b01ffdd7c47c59a7a2394fb81a0be",
       "version_major": 2,
       "version_minor": 0
      },
      "text/plain": [
       "  0%|          | 0/938 [00:00<?, ?it/s]"
      ]
     },
     "metadata": {},
     "output_type": "display_data"
    },
    {
     "name": "stdout",
     "output_type": "stream",
     "text": [
      "\n",
      "Test set: Average loss: 0.0017, Accuracy: 7525/10000 (75%)\n",
      "\n"
     ]
    },
    {
     "data": {
      "application/vnd.jupyter.widget-view+json": {
       "model_id": "b365e004d6c4426f9607d1abafff2a4b",
       "version_major": 2,
       "version_minor": 0
      },
      "text/plain": [
       "  0%|          | 0/938 [00:00<?, ?it/s]"
      ]
     },
     "metadata": {},
     "output_type": "display_data"
    },
    {
     "name": "stdout",
     "output_type": "stream",
     "text": [
      "\n",
      "Test set: Average loss: 0.0017, Accuracy: 7761/10000 (78%)\n",
      "\n"
     ]
    },
    {
     "data": {
      "application/vnd.jupyter.widget-view+json": {
       "model_id": "f98b2002b9c3413d89ccacd05c245d5f",
       "version_major": 2,
       "version_minor": 0
      },
      "text/plain": [
       "  0%|          | 0/938 [00:00<?, ?it/s]"
      ]
     },
     "metadata": {},
     "output_type": "display_data"
    },
    {
     "name": "stdout",
     "output_type": "stream",
     "text": [
      "\n",
      "Test set: Average loss: 0.0017, Accuracy: 7923/10000 (79%)\n",
      "\n"
     ]
    }
   ],
   "source": [
    "classification_losses = []\n",
    "classification_accuracies = []\n",
    "\n",
    "for epoch in range(n_epochs):\n",
    "    for batch_idx, (data, target) in enumerate(tqdm(classification_train_loader)):\n",
    "        classification_optimizer.zero_grad()\n",
    "        output = classificationModel(data)\n",
    "        #print(output.shape, target.shape)\n",
    "        #print(output)\n",
    "        loss_val = classification_loss(output, target)\n",
    "        #print(loss_val)\n",
    "        \n",
    "        loss_val.backward()\n",
    "        classification_optimizer.step()\n",
    "\n",
    "        classification_losses.append(loss_val.item())\n",
    "        classification_accuracies.append((output.argmax(dim=1) == target).float().mean().item())\n",
    "    \n",
    "    test_loss = 0\n",
    "    correct = 0\n",
    "    classificationModel.eval()\n",
    "    with torch.no_grad():\n",
    "        for data, target in test_loader:\n",
    "            output = classificationModel(data)\n",
    "            test_loss += classification_loss(output, target).item()\n",
    "            pred = output.argmax(dim=1, keepdim=True)\n",
    "            correct += pred.eq(target.view_as(pred)).sum().item()\n",
    "\n",
    "    test_loss /= len(test_loader.dataset)\n",
    "    print('\\nTest set: Average loss: {:.4f}, Accuracy: {}/{} ({:.0f}%)\\n'\n",
    "        .format(test_loss, correct, len(test_loader.dataset), 100. * correct / len(test_loader.dataset)))"
   ]
  },
  {
   "cell_type": "code",
   "execution_count": 8,
   "id": "64e710b54c903087",
   "metadata": {
    "ExecuteTime": {
     "end_time": "2023-11-09T09:43:30.779656Z",
     "start_time": "2023-11-09T09:43:30.669067Z"
    },
    "collapsed": false
   },
   "outputs": [
    {
     "data": {
      "image/png": "[encoded data removed]",
      "text/plain": [
       "<Figure size 640x480 with 1 Axes>"
      ]
     },
     "metadata": {},
     "output_type": "display_data"
    }
   ],
   "source": [
    " #plot losses\n",
    "\n",
    "plt.plot(classification_losses)\n",
    "plt.title('Loss')\n",
    "plt.xlabel('batch')\n",
    "plt.ylabel('loss')\n",
    "plt.show()\n",
    "\n",
    "\n"
   ]
  },
  {
   "cell_type": "code",
   "execution_count": 9,
   "id": "fddc34831e5c95f0",
   "metadata": {
    "ExecuteTime": {
     "end_time": "2023-11-09T09:43:30.887020Z",
     "start_time": "2023-11-09T09:43:30.779215Z"
    },
    "collapsed": false
   },
   "outputs": [
    {
     "data": {
      "image/png": "[encoded data removed]",
      "text/plain": [
       "<Figure size 640x480 with 1 Axes>"
      ]
     },
     "metadata": {},
     "output_type": "display_data"
    }
   ],
   "source": [
    "# plot accuracies\n",
    "\n",
    "plt.plot(classification_accuracies)\n",
    "plt.title('Accuracy')\n",
    "plt.xlabel('batch')\n",
    "plt.ylabel('accuracy')\n",
    "plt.show()\n"
   ]
  },
  {
   "cell_type": "code",
   "execution_count": 10,
   "id": "314d132aeaa01685",
   "metadata": {
    "ExecuteTime": {
     "end_time": "2023-11-09T09:46:58.739404Z",
     "start_time": "2023-11-09T09:43:30.885027Z"
    },
    "collapsed": false
   },
   "outputs": [
    {
     "data": {
      "application/vnd.jupyter.widget-view+json": {
       "model_id": "c66b574cc8f243e287228b0dbf65478a",
       "version_major": 2,
       "version_minor": 0
      },
      "text/plain": [
       "  0%|          | 0/938 [00:00<?, ?it/s]"
      ]
     },
     "metadata": {},
     "output_type": "display_data"
    },
    {
     "name": "stdout",
     "output_type": "stream",
     "text": [
      "\n",
      "Test set: Average loss: 0.0020, Accuracy: 5026/10000 (50%)\n",
      "\n"
     ]
    },
    {
     "data": {
      "application/vnd.jupyter.widget-view+json": {
       "model_id": "909088b8df4641b8b35336641a333fe0",
       "version_major": 2,
       "version_minor": 0
      },
      "text/plain": [
       "  0%|          | 0/938 [00:00<?, ?it/s]"
      ]
     },
     "metadata": {},
     "output_type": "display_data"
    },
    {
     "name": "stdout",
     "output_type": "stream",
     "text": [
      "\n",
      "Test set: Average loss: 0.0019, Accuracy: 5939/10000 (59%)\n",
      "\n"
     ]
    },
    {
     "data": {
      "application/vnd.jupyter.widget-view+json": {
       "model_id": "cf431c0b34c14799b83c9caf801c92d2",
       "version_major": 2,
       "version_minor": 0
      },
      "text/plain": [
       "  0%|          | 0/938 [00:00<?, ?it/s]"
      ]
     },
     "metadata": {},
     "output_type": "display_data"
    },
    {
     "name": "stdout",
     "output_type": "stream",
     "text": [
      "\n",
      "Test set: Average loss: 0.0018, Accuracy: 6366/10000 (64%)\n",
      "\n"
     ]
    }
   ],
   "source": [
    "encoder_test = ViT(in_channels=1, n_classes=10, img_size=img_size,\n",
    "            depth=3, emb_size=192)\n",
    "\n",
    "decoder_test = ClassificationHead(emb_size=192, n_classes=10)\n",
    "\n",
    "\n",
    "classificationModel_test = torch.nn.Sequential(\n",
    "    encoder_test, decoder_test\n",
    ")\n",
    "\n",
    "\n",
    "classification_loss_test = torch.nn.CrossEntropyLoss()\n",
    "classification_optimizer_test = torch.optim.SGD(decoder_test.parameters(), lr=learning_rate,\n",
    "                            momentum=momentum)\n",
    "\n",
    "\n",
    "classification_losses_test = []\n",
    "classification_accuracies_test = []\n",
    "\n",
    "for epoch in range(n_epochs):\n",
    "    for batch_idx, (data, target) in enumerate(tqdm(classification_train_loader)):\n",
    "        classification_optimizer_test.zero_grad()\n",
    "        output = classificationModel_test(data)\n",
    "        #print(output.shape, target.shape)\n",
    "        #print(output)\n",
    "        loss_val_test = classification_loss_test(output, target)\n",
    "        #print(loss_val)\n",
    "        \n",
    "        loss_val_test.backward()\n",
    "        classification_optimizer_test.step()\n",
    "\n",
    "        classification_losses_test.append(loss_val.item())\n",
    "        classification_accuracies_test.append((output.argmax(dim=1) == target).float().mean().item())\n",
    "    \n",
    "    test_loss_test = 0\n",
    "    correct_test = 0\n",
    "    classificationModel.eval()\n",
    "    with torch.no_grad():\n",
    "        for data, target in test_loader:\n",
    "            output = classificationModel_test(data)\n",
    "            test_loss_test += classification_loss_test(output, target).item()\n",
    "            pred_test = output.argmax(dim=1, keepdim=True)\n",
    "            correct_test += pred_test.eq(target.view_as(pred_test)).sum().item()\n",
    "\n",
    "    test_loss_test /= len(test_loader.dataset)\n",
    "    print('\\nTest set: Average loss: {:.4f}, Accuracy: {}/{} ({:.0f}%)\\n'\n",
    "        .format(test_loss_test, correct_test, len(test_loader.dataset), 100. * correct_test / len(test_loader.dataset)))"
   ]
  },
  {
   "cell_type": "code",
   "execution_count": null,
   "id": "3102d4b645193a4d",
   "metadata": {
    "ExecuteTime": {
     "end_time": "2023-11-09T09:46:58.739583Z",
     "start_time": "2023-11-09T09:46:58.737353Z"
    }
   },
   "outputs": [],
   "source": []
  },
  {
   "cell_type": "code",
   "execution_count": null,
   "id": "57a1e48e08a38ccc",
   "metadata": {
    "ExecuteTime": {
     "end_time": "2023-11-09T09:46:58.742833Z",
     "start_time": "2023-11-09T09:46:58.739632Z"
    }
   },
   "outputs": [],
   "source": []
  }
 ],
 "metadata": {
  "kernelspec": {
   "display_name": "Python 3",
   "language": "python",
   "name": "python3"
  },
  "language_info": {
   "codemirror_mode": {
    "name": "ipython",
    "version": 3
   },
   "file_extension": ".py",
   "mimetype": "text/x-python",
   "name": "python",
   "nbconvert_exporter": "python",
   "pygments_lexer": "ipython3",
   "version": "3.10.13"
  }
 },
 "nbformat": 4,
 "nbformat_minor": 5
}
