{
 "cells": [
  {
   "cell_type": "code",
   "execution_count": 1,
   "id": "2d22d469043d758c",
   "metadata": {
    "collapsed": false,
    "ExecuteTime": {
     "end_time": "2023-11-10T08:45:22.075250Z",
     "start_time": "2023-11-10T08:45:20.864698Z"
    }
   },
   "outputs": [],
   "source": [
    "import torch\n",
    "import torchvision\n",
    "\n",
    "from model import ViT, RegressionHead, ClassificationHead\n",
    "from rotationPrediction import RotationPredictionDataset\n",
    "\n",
    "import matplotlib.pyplot as plt\n",
    "from tqdm.notebook import tqdm"
   ]
  },
  {
   "cell_type": "code",
   "execution_count": 2,
   "id": "3493364aff598e19",
   "metadata": {
    "collapsed": false,
    "ExecuteTime": {
     "end_time": "2023-11-10T08:45:22.082572Z",
     "start_time": "2023-11-10T08:45:22.076484Z"
    }
   },
   "outputs": [
    {
     "data": {
      "text/plain": "<torch._C.Generator at 0x113daeb50>"
     },
     "execution_count": 2,
     "metadata": {},
     "output_type": "execute_result"
    }
   ],
   "source": [
    "n_epochs = 3\n",
    "batch_size_train = 64\n",
    "batch_size_test = 1000\n",
    "learning_rate = 0.01\n",
    "momentum = 0.5\n",
    "log_interval = 10\n",
    "img_size = 56\n",
    "\n",
    "random_seed = 1\n",
    "torch.backends.cudnn.enabled = False\n",
    "torch.manual_seed(random_seed)"
   ]
  },
  {
   "cell_type": "code",
   "execution_count": 3,
   "id": "initial_id",
   "metadata": {
    "collapsed": true,
    "ExecuteTime": {
     "end_time": "2023-11-10T08:45:27.742671Z",
     "start_time": "2023-11-10T08:45:22.091863Z"
    }
   },
   "outputs": [
    {
     "name": "stdout",
     "output_type": "stream",
     "text": [
      "mps\n",
      "Downloading http://fashion-mnist.s3-website.eu-central-1.amazonaws.com/train-images-idx3-ubyte.gz\n",
      "Downloading http://fashion-mnist.s3-website.eu-central-1.amazonaws.com/train-images-idx3-ubyte.gz to ./images/test/RotationPredictionDataset/raw/train-images-idx3-ubyte.gz\n"
     ]
    },
    {
     "name": "stderr",
     "output_type": "stream",
     "text": [
      "100%|█████████████████████████████████████████████████████████████████████████████████████████████████████████████████████████████████████████████████████████████████████████████████████████████████████████████████████████████████████████████████████████████| 26421880/26421880 [00:03<00:00, 8403865.56it/s]\n"
     ]
    },
    {
     "name": "stdout",
     "output_type": "stream",
     "text": [
      "Extracting ./images/test/RotationPredictionDataset/raw/train-images-idx3-ubyte.gz to ./images/test/RotationPredictionDataset/raw\n",
      "\n",
      "Downloading http://fashion-mnist.s3-website.eu-central-1.amazonaws.com/train-labels-idx1-ubyte.gz\n",
      "Downloading http://fashion-mnist.s3-website.eu-central-1.amazonaws.com/train-labels-idx1-ubyte.gz to ./images/test/RotationPredictionDataset/raw/train-labels-idx1-ubyte.gz\n"
     ]
    },
    {
     "name": "stderr",
     "output_type": "stream",
     "text": [
      "100%|████████████████████████████████████████████████████████████████████████████████████████████████████████████████████████████████████████████████████████████████████████████████████████████████████████████████████████████████████████████████████████████████████| 29515/29515 [00:00<00:00, 899515.22it/s]"
     ]
    },
    {
     "name": "stdout",
     "output_type": "stream",
     "text": [
      "Extracting ./images/test/RotationPredictionDataset/raw/train-labels-idx1-ubyte.gz to ./images/test/RotationPredictionDataset/raw\n",
      "\n",
      "Downloading http://fashion-mnist.s3-website.eu-central-1.amazonaws.com/t10k-images-idx3-ubyte.gz\n"
     ]
    },
    {
     "name": "stderr",
     "output_type": "stream",
     "text": [
      "\n"
     ]
    },
    {
     "name": "stdout",
     "output_type": "stream",
     "text": [
      "Downloading http://fashion-mnist.s3-website.eu-central-1.amazonaws.com/t10k-images-idx3-ubyte.gz to ./images/test/RotationPredictionDataset/raw/t10k-images-idx3-ubyte.gz\n"
     ]
    },
    {
     "name": "stderr",
     "output_type": "stream",
     "text": [
      "100%|███████████████████████████████████████████████████████████████████████████████████████████████████████████████████████████████████████████████████████████████████████████████████████████████████████████████████████████████████████████████████████████████| 4422102/4422102 [00:00<00:00, 7941549.65it/s]\n"
     ]
    },
    {
     "name": "stdout",
     "output_type": "stream",
     "text": [
      "Extracting ./images/test/RotationPredictionDataset/raw/t10k-images-idx3-ubyte.gz to ./images/test/RotationPredictionDataset/raw\n",
      "\n",
      "Downloading http://fashion-mnist.s3-website.eu-central-1.amazonaws.com/t10k-labels-idx1-ubyte.gz\n",
      "Downloading http://fashion-mnist.s3-website.eu-central-1.amazonaws.com/t10k-labels-idx1-ubyte.gz to ./images/test/RotationPredictionDataset/raw/t10k-labels-idx1-ubyte.gz\n"
     ]
    },
    {
     "name": "stderr",
     "output_type": "stream",
     "text": [
      "100%|█████████████████████████████████████████████████████████████████████████████████████████████████████████████████████████████████████████████████████████████████████████████████████████████████████████████████████████████████████████████████████████████████████| 5148/5148 [00:00<00:00, 5529392.32it/s]"
     ]
    },
    {
     "name": "stdout",
     "output_type": "stream",
     "text": [
      "Extracting ./images/test/RotationPredictionDataset/raw/t10k-labels-idx1-ubyte.gz to ./images/test/RotationPredictionDataset/raw\n"
     ]
    },
    {
     "name": "stderr",
     "output_type": "stream",
     "text": [
      "\n"
     ]
    },
    {
     "data": {
      "text/plain": "\"\\n\\ntrain_loader = torch.utils.data.DataLoader(\\n  torchvision.datasets.FashionMNIST('./images/train', train=True, download=True,\\n                             transform=torchvision.transforms.Compose([\\n                                torchvision.transforms.Resize((img_size, img_size)),\\n                                torchvision.transforms.ToTensor(),\\n                                torchvision.transforms.Normalize(\\n                                 (0.1307,), (0.3081,))\\n                             ])),\\n  batch_size=batch_size_train, shuffle=True)\\n\\ntest_loader = torch.utils.data.DataLoader(\\n  torchvision.datasets.FashionMNIST('./images/test', train=False, download=True,\\n                             transform=torchvision.transforms.Compose([\\n                                 torchvision.transforms.Resize((img_size, img_size)),\\n                                 torchvision.transforms.ToTensor(),\\n                                 torchvision.transforms.Normalize(\\n                                 (0.1307,), (0.3081,))\\n                             ])),\\n  batch_size=batch_size_test, shuffle=True)\\n\\n\""
     },
     "execution_count": 3,
     "metadata": {},
     "output_type": "execute_result"
    }
   ],
   "source": [
    "\n",
    "device = torch.device(\"cuda:0\" if torch.cuda.is_available() else \"mps\" if torch.backends.mps.is_available() else \"cpu\")\n",
    "print(device)\n",
    "pretext_dataset = RotationPredictionDataset(root='./images/train', train=True, download=True,\n",
    "                                           transform=torchvision.transforms.Compose([\n",
    "                                               torchvision.transforms.Resize((img_size, img_size)),\n",
    "                                               torchvision.transforms.ToTensor(),\n",
    "                                               torchvision.transforms.Normalize((0.1307,), (0.3081,))\n",
    "                                           ]))\n",
    "pretext_dataset_test = RotationPredictionDataset(root='./images/test', train=False, download=True,\n",
    "                                             transform=torchvision.transforms.Compose([\n",
    "                                                  torchvision.transforms.Resize((img_size, img_size)),\n",
    "                                                  torchvision.transforms.ToTensor(),\n",
    "                                                  torchvision.transforms.Normalize((0.1307,), (0.3081,))\n",
    "                                             ]))\n",
    "\n",
    "pretext_dataset_test_loader = torch.utils.data.DataLoader(pretext_dataset_test, batch_size=batch_size_test, shuffle=True)\n",
    "\n",
    "\n",
    "train_loader = torch.utils.data.DataLoader(pretext_dataset, batch_size=batch_size_train, shuffle=True)\n",
    "\n",
    "classification_train_loader = torch.utils.data.DataLoader(torchvision.datasets.FashionMNIST('./images/train', train=True, download=True,\n",
    "                                            transform=torchvision.transforms.Compose([\n",
    "                                                torchvision.transforms.Resize((img_size, img_size)),\n",
    "                                                torchvision.transforms.ToTensor(),\n",
    "                                                torchvision.transforms.Normalize((0.1307,), (0.3081,))\n",
    "                                            ])), batch_size=batch_size_train, shuffle=True)\n",
    "\n",
    "test_loader = torch.utils.data.DataLoader(torchvision.datasets.FashionMNIST('./images/test', train=False, download=True,\n",
    "                                           transform=torchvision.transforms.Compose([\n",
    "                                               torchvision.transforms.Resize((img_size, img_size)),\n",
    "                                               torchvision.transforms.ToTensor(),\n",
    "                                               torchvision.transforms.Normalize((0.1307,), (0.3081,))\n",
    "                                           ])), batch_size=batch_size_test, shuffle=True)\n",
    "\n",
    "\n",
    "'''\n",
    "\n",
    "train_loader = torch.utils.data.DataLoader(\n",
    "  torchvision.datasets.FashionMNIST('./images/train', train=True, download=True,\n",
    "                             transform=torchvision.transforms.Compose([\n",
    "                                torchvision.transforms.Resize((img_size, img_size)),\n",
    "                                torchvision.transforms.ToTensor(),\n",
    "                                torchvision.transforms.Normalize(\n",
    "                                 (0.1307,), (0.3081,))\n",
    "                             ])),\n",
    "  batch_size=batch_size_train, shuffle=True)\n",
    "\n",
    "test_loader = torch.utils.data.DataLoader(\n",
    "  torchvision.datasets.FashionMNIST('./images/test', train=False, download=True,\n",
    "                             transform=torchvision.transforms.Compose([\n",
    "                                 torchvision.transforms.Resize((img_size, img_size)),\n",
    "                                 torchvision.transforms.ToTensor(),\n",
    "                                 torchvision.transforms.Normalize(\n",
    "                                 (0.1307,), (0.3081,))\n",
    "                             ])),\n",
    "  batch_size=batch_size_test, shuffle=True)\n",
    "\n",
    "'''\n"
   ]
  },
  {
   "cell_type": "code",
   "execution_count": 4,
   "id": "fb0fb9b2f68a6481",
   "metadata": {
    "collapsed": false,
    "ExecuteTime": {
     "end_time": "2023-11-10T08:45:27.746755Z",
     "start_time": "2023-11-10T08:45:27.732860Z"
    }
   },
   "outputs": [],
   "source": [
    "encoder = ViT(in_channels=1, n_classes=10, img_size=img_size,\n",
    "            depth=3, emb_size=192)\n",
    "\n",
    "decoder = ClassificationHead(emb_size=192, n_classes=10)\n",
    "\n",
    "regressionModel = torch.nn.Sequential(\n",
    "    encoder, RegressionHead(emb_size=192)\n",
    ")\n",
    "classificationModel = torch.nn.Sequential(\n",
    "    encoder, decoder\n",
    ")\n",
    "\n",
    "rotation_loss = torch.nn.CrossEntropyLoss()\n",
    "rotation_optimizer = torch.optim.SGD(regressionModel.parameters(), lr=learning_rate, momentum=momentum)\n",
    "\n",
    "classification_loss = torch.nn.CrossEntropyLoss()\n",
    "classification_optimizer = torch.optim.SGD(classificationModel.parameters(), lr=learning_rate,\n",
    "                            momentum=momentum)"
   ]
  },
  {
   "cell_type": "code",
   "execution_count": 5,
   "id": "7ebda46a69d3137d",
   "metadata": {
    "collapsed": false,
    "ExecuteTime": {
     "end_time": "2023-11-10T08:48:06.371507Z",
     "start_time": "2023-11-10T08:45:27.750943Z"
    }
   },
   "outputs": [
    {
     "data": {
      "text/plain": "  0%|          | 0/938 [00:00<?, ?it/s]",
      "application/vnd.jupyter.widget-view+json": {
       "version_major": 2,
       "version_minor": 0,
       "model_id": "a0710dca7cc3433ebe86c420f0f34cc5"
      }
     },
     "metadata": {},
     "output_type": "display_data"
    },
    {
     "name": "stdout",
     "output_type": "stream",
     "text": [
      "\n",
      "Test set: Average loss: 0.0011, Accuracy: 7063/10000 (71%)\n"
     ]
    },
    {
     "data": {
      "text/plain": "  0%|          | 0/938 [00:00<?, ?it/s]",
      "application/vnd.jupyter.widget-view+json": {
       "version_major": 2,
       "version_minor": 0,
       "model_id": "b021b3fb702046b8938508d702b98a98"
      }
     },
     "metadata": {},
     "output_type": "display_data"
    },
    {
     "name": "stdout",
     "output_type": "stream",
     "text": [
      "\n",
      "Test set: Average loss: 0.0009, Accuracy: 8056/10000 (81%)\n"
     ]
    },
    {
     "data": {
      "text/plain": "  0%|          | 0/938 [00:00<?, ?it/s]",
      "application/vnd.jupyter.widget-view+json": {
       "version_major": 2,
       "version_minor": 0,
       "model_id": "bb209b11e8944f75b0c2d37ee746d13a"
      }
     },
     "metadata": {},
     "output_type": "display_data"
    },
    {
     "name": "stdout",
     "output_type": "stream",
     "text": [
      "\n",
      "Test set: Average loss: 0.0009, Accuracy: 8659/10000 (87%)\n"
     ]
    }
   ],
   "source": [
    "# training loop\n",
    "'''\n",
    "losses = []\n",
    "accuracies = []\n",
    "\n",
    "for epoch in range(n_epochs):\n",
    "    # train\n",
    "    for batch_idx, (data, target) in enumerate(tqdm(train_loader)):\n",
    "        optimizer.zero_grad()\n",
    "        output = model(data)\n",
    "        \n",
    "        loss_val = loss(output, target)\n",
    "        loss_val.backward()\n",
    "        optimizer.step()\n",
    "        \n",
    "        losses.append(loss_val.item())\n",
    "        accuracies.append((output.argmax(dim=1) == target).float().mean().item())\n",
    "            \n",
    "    # test\n",
    "    test_loss = 0\n",
    "    correct = 0\n",
    "    with torch.no_grad():\n",
    "        for data, target in test_loader:\n",
    "            output = model(data)\n",
    "            test_loss += loss(output, target).item()\n",
    "            pred = output.argmax(dim=1, keepdim=True)\n",
    "            correct += pred.eq(target.view_as(pred)).sum().item()\n",
    "            \n",
    "    test_loss /= len(test_loader.dataset)\n",
    "    print('\\nTest set: Average loss: {:.4f}, Accuracy: {}/{} ({:.0f}%)\\n'\n",
    "          .format(test_loss, correct, len(test_loader.dataset),\n",
    "                  100. * correct / len(test_loader.dataset)))\n",
    "'''\n",
    "\n",
    "regression_losses = []\n",
    "regression_accuracies = []\n",
    "\n",
    "for epoch in range(n_epochs):\n",
    "    regressionModel.train()\n",
    "    for batch_idx, (data, target) in enumerate(tqdm(train_loader)):\n",
    "        rotation_optimizer.zero_grad()\n",
    "        output = regressionModel(data)\n",
    "        #print(output.shape, target.shape)\n",
    "        #print(output, target)\n",
    "        loss_val = rotation_loss(output, target)\n",
    "        #print(loss_val)\n",
    "        \n",
    "        loss_val.backward()\n",
    "        rotation_optimizer.step()\n",
    "\n",
    "        regression_losses.append(loss_val.item())\n",
    "        regression_accuracies.append((output.argmax(dim=1) == target).float().mean().item())\n",
    "\n",
    "    \n",
    "    test_loss = 0\n",
    "    correct = 0\n",
    "    with torch.no_grad():\n",
    "        for data, target in pretext_dataset_test_loader:\n",
    "            output = regressionModel(data)\n",
    "            test_loss += rotation_loss(output, target).item()\n",
    "            pred = output.argmax(dim=1, keepdim=True)\n",
    "            correct += pred.eq(target.view_as(pred)).sum().item()\n",
    "\n",
    "    test_loss /= len(pretext_dataset_test_loader.dataset)\n",
    "    print('\\nTest set: Average loss: {:.4f}, Accuracy: {}/{} ({:.0f}%)\\n'\n",
    "        .format(test_loss, correct, len(pretext_dataset_test_loader.dataset), 100. * correct / len(pretext_dataset_test_loader.dataset)))\n",
    "\n",
    "\n"
   ]
  },
  {
   "cell_type": "code",
   "execution_count": 6,
   "id": "6f17a57ccd57c27e",
   "metadata": {
    "ExecuteTime": {
     "end_time": "2023-11-10T08:51:29.954158Z",
     "start_time": "2023-11-10T08:48:06.370102Z"
    }
   },
   "outputs": [
    {
     "data": {
      "text/plain": "  0%|          | 0/938 [00:00<?, ?it/s]",
      "application/vnd.jupyter.widget-view+json": {
       "version_major": 2,
       "version_minor": 0,
       "model_id": "1606c0f19b8f40efa0bfb888a0a96557"
      }
     },
     "metadata": {},
     "output_type": "display_data"
    },
    {
     "name": "stdout",
     "output_type": "stream",
     "text": [
      "\n",
      "Test set: Average loss: 0.0017, Accuracy: 7506/10000 (75%)\n"
     ]
    },
    {
     "data": {
      "text/plain": "  0%|          | 0/938 [00:00<?, ?it/s]",
      "application/vnd.jupyter.widget-view+json": {
       "version_major": 2,
       "version_minor": 0,
       "model_id": "73a806fb8b4c4be5af475eb0653b33ce"
      }
     },
     "metadata": {},
     "output_type": "display_data"
    },
    {
     "name": "stdout",
     "output_type": "stream",
     "text": [
      "\n",
      "Test set: Average loss: 0.0017, Accuracy: 7832/10000 (78%)\n"
     ]
    },
    {
     "data": {
      "text/plain": "  0%|          | 0/938 [00:00<?, ?it/s]",
      "application/vnd.jupyter.widget-view+json": {
       "version_major": 2,
       "version_minor": 0,
       "model_id": "215f92fc71d34a3c878d1a398c05fc13"
      }
     },
     "metadata": {},
     "output_type": "display_data"
    },
    {
     "name": "stdout",
     "output_type": "stream",
     "text": [
      "\n",
      "Test set: Average loss: 0.0017, Accuracy: 8117/10000 (81%)\n"
     ]
    }
   ],
   "source": [
    "classification_losses = []\n",
    "classification_accuracies = []\n",
    "\n",
    "for epoch in range(n_epochs):\n",
    "    for batch_idx, (data, target) in enumerate(tqdm(classification_train_loader)):\n",
    "        classification_optimizer.zero_grad()\n",
    "        output = classificationModel(data)\n",
    "        #print(output.shape, target.shape)\n",
    "        #print(output)\n",
    "        loss_val = classification_loss(output, target)\n",
    "        #print(loss_val)\n",
    "        \n",
    "        loss_val.backward()\n",
    "        classification_optimizer.step()\n",
    "\n",
    "        classification_losses.append(loss_val.item())\n",
    "        classification_accuracies.append((output.argmax(dim=1) == target).float().mean().item())\n",
    "    \n",
    "    test_loss = 0\n",
    "    correct = 0\n",
    "    classificationModel.eval()\n",
    "    with torch.no_grad():\n",
    "        for data, target in test_loader:\n",
    "            output = classificationModel(data)\n",
    "            test_loss += classification_loss(output, target).item()\n",
    "            pred = output.argmax(dim=1, keepdim=True)\n",
    "            correct += pred.eq(target.view_as(pred)).sum().item()\n",
    "\n",
    "    test_loss /= len(test_loader.dataset)\n",
    "    print('\\nTest set: Average loss: {:.4f}, Accuracy: {}/{} ({:.0f}%)\\n'\n",
    "        .format(test_loss, correct, len(test_loader.dataset), 100. * correct / len(test_loader.dataset)))"
   ]
  },
  {
   "cell_type": "code",
   "execution_count": 10,
   "id": "64e710b54c903087",
   "metadata": {
    "collapsed": false,
    "ExecuteTime": {
     "end_time": "2023-11-13T09:31:45.076189Z",
     "start_time": "2023-11-13T09:31:44.641818Z"
    }
   },
   "outputs": [
    {
     "data": {
      "text/plain": "<Figure size 640x480 with 1 Axes>",
      "image/png": "[encoded data removed]"
     },
     "metadata": {},
     "output_type": "display_data"
    },
    {
     "ename": "ValueError",
     "evalue": "buffer is not large enough",
     "output_type": "error",
     "traceback": [
      "\u001B[0;31m---------------------------------------------------------------------------\u001B[0m",
      "\u001B[0;31mValueError\u001B[0m                                Traceback (most recent call last)",
      "Cell \u001B[0;32mIn[10], line 9\u001B[0m\n\u001B[1;32m      6\u001B[0m plt\u001B[38;5;241m.\u001B[39mylabel(\u001B[38;5;124m'\u001B[39m\u001B[38;5;124mloss\u001B[39m\u001B[38;5;124m'\u001B[39m)\n\u001B[1;32m      7\u001B[0m plt\u001B[38;5;241m.\u001B[39mshow()\n\u001B[0;32m----> 9\u001B[0m \u001B[43mplt\u001B[49m\u001B[38;5;241;43m.\u001B[39;49m\u001B[43mimsave\u001B[49m\u001B[43m(\u001B[49m\u001B[38;5;124;43m'\u001B[39;49m\u001B[38;5;124;43mclassification_losses.png\u001B[39;49m\u001B[38;5;124;43m'\u001B[39;49m\u001B[43m,\u001B[49m\u001B[43m \u001B[49m\u001B[43mclassification_losses\u001B[49m\u001B[43m)\u001B[49m\n",
      "File \u001B[0;32m/opt/homebrew/Caskroom/miniconda/base/envs/monai/lib/python3.10/site-packages/matplotlib/pyplot.py:2396\u001B[0m, in \u001B[0;36mimsave\u001B[0;34m(fname, arr, **kwargs)\u001B[0m\n\u001B[1;32m   2392\u001B[0m \u001B[38;5;129m@_copy_docstring_and_deprecators\u001B[39m(matplotlib\u001B[38;5;241m.\u001B[39mimage\u001B[38;5;241m.\u001B[39mimsave)\n\u001B[1;32m   2393\u001B[0m \u001B[38;5;28;01mdef\u001B[39;00m \u001B[38;5;21mimsave\u001B[39m(\n\u001B[1;32m   2394\u001B[0m     fname: \u001B[38;5;28mstr\u001B[39m \u001B[38;5;241m|\u001B[39m os\u001B[38;5;241m.\u001B[39mPathLike \u001B[38;5;241m|\u001B[39m BinaryIO, arr: ArrayLike, \u001B[38;5;241m*\u001B[39m\u001B[38;5;241m*\u001B[39mkwargs\n\u001B[1;32m   2395\u001B[0m ) \u001B[38;5;241m-\u001B[39m\u001B[38;5;241m>\u001B[39m \u001B[38;5;28;01mNone\u001B[39;00m:\n\u001B[0;32m-> 2396\u001B[0m     \u001B[43mmatplotlib\u001B[49m\u001B[38;5;241;43m.\u001B[39;49m\u001B[43mimage\u001B[49m\u001B[38;5;241;43m.\u001B[39;49m\u001B[43mimsave\u001B[49m\u001B[43m(\u001B[49m\u001B[43mfname\u001B[49m\u001B[43m,\u001B[49m\u001B[43m \u001B[49m\u001B[43marr\u001B[49m\u001B[43m,\u001B[49m\u001B[43m \u001B[49m\u001B[38;5;241;43m*\u001B[39;49m\u001B[38;5;241;43m*\u001B[39;49m\u001B[43mkwargs\u001B[49m\u001B[43m)\u001B[49m\n",
      "File \u001B[0;32m/opt/homebrew/Caskroom/miniconda/base/envs/monai/lib/python3.10/site-packages/matplotlib/image.py:1624\u001B[0m, in \u001B[0;36mimsave\u001B[0;34m(fname, arr, vmin, vmax, cmap, format, origin, dpi, metadata, pil_kwargs)\u001B[0m\n\u001B[1;32m   1622\u001B[0m     pil_kwargs \u001B[38;5;241m=\u001B[39m pil_kwargs\u001B[38;5;241m.\u001B[39mcopy()\n\u001B[1;32m   1623\u001B[0m pil_shape \u001B[38;5;241m=\u001B[39m (rgba\u001B[38;5;241m.\u001B[39mshape[\u001B[38;5;241m1\u001B[39m], rgba\u001B[38;5;241m.\u001B[39mshape[\u001B[38;5;241m0\u001B[39m])\n\u001B[0;32m-> 1624\u001B[0m image \u001B[38;5;241m=\u001B[39m \u001B[43mPIL\u001B[49m\u001B[38;5;241;43m.\u001B[39;49m\u001B[43mImage\u001B[49m\u001B[38;5;241;43m.\u001B[39;49m\u001B[43mfrombuffer\u001B[49m\u001B[43m(\u001B[49m\n\u001B[1;32m   1625\u001B[0m \u001B[43m    \u001B[49m\u001B[38;5;124;43m\"\u001B[39;49m\u001B[38;5;124;43mRGBA\u001B[39;49m\u001B[38;5;124;43m\"\u001B[39;49m\u001B[43m,\u001B[49m\u001B[43m \u001B[49m\u001B[43mpil_shape\u001B[49m\u001B[43m,\u001B[49m\u001B[43m \u001B[49m\u001B[43mrgba\u001B[49m\u001B[43m,\u001B[49m\u001B[43m \u001B[49m\u001B[38;5;124;43m\"\u001B[39;49m\u001B[38;5;124;43mraw\u001B[39;49m\u001B[38;5;124;43m\"\u001B[39;49m\u001B[43m,\u001B[49m\u001B[43m \u001B[49m\u001B[38;5;124;43m\"\u001B[39;49m\u001B[38;5;124;43mRGBA\u001B[39;49m\u001B[38;5;124;43m\"\u001B[39;49m\u001B[43m,\u001B[49m\u001B[43m \u001B[49m\u001B[38;5;241;43m0\u001B[39;49m\u001B[43m,\u001B[49m\u001B[43m \u001B[49m\u001B[38;5;241;43m1\u001B[39;49m\u001B[43m)\u001B[49m\n\u001B[1;32m   1626\u001B[0m \u001B[38;5;28;01mif\u001B[39;00m \u001B[38;5;28mformat\u001B[39m \u001B[38;5;241m==\u001B[39m \u001B[38;5;124m\"\u001B[39m\u001B[38;5;124mpng\u001B[39m\u001B[38;5;124m\"\u001B[39m:\n\u001B[1;32m   1627\u001B[0m     \u001B[38;5;66;03m# Only use the metadata kwarg if pnginfo is not set, because the\u001B[39;00m\n\u001B[1;32m   1628\u001B[0m     \u001B[38;5;66;03m# semantics of duplicate keys in pnginfo is unclear.\u001B[39;00m\n\u001B[1;32m   1629\u001B[0m     \u001B[38;5;28;01mif\u001B[39;00m \u001B[38;5;124m\"\u001B[39m\u001B[38;5;124mpnginfo\u001B[39m\u001B[38;5;124m\"\u001B[39m \u001B[38;5;129;01min\u001B[39;00m pil_kwargs:\n",
      "File \u001B[0;32m/opt/homebrew/Caskroom/miniconda/base/envs/monai/lib/python3.10/site-packages/PIL/Image.py:2932\u001B[0m, in \u001B[0;36mfrombuffer\u001B[0;34m(mode, size, data, decoder_name, *args)\u001B[0m\n\u001B[1;32m   2930\u001B[0m \u001B[38;5;28;01mif\u001B[39;00m args[\u001B[38;5;241m0\u001B[39m] \u001B[38;5;129;01min\u001B[39;00m _MAPMODES:\n\u001B[1;32m   2931\u001B[0m     im \u001B[38;5;241m=\u001B[39m new(mode, (\u001B[38;5;241m1\u001B[39m, \u001B[38;5;241m1\u001B[39m))\n\u001B[0;32m-> 2932\u001B[0m     im \u001B[38;5;241m=\u001B[39m im\u001B[38;5;241m.\u001B[39m_new(\u001B[43mcore\u001B[49m\u001B[38;5;241;43m.\u001B[39;49m\u001B[43mmap_buffer\u001B[49m\u001B[43m(\u001B[49m\u001B[43mdata\u001B[49m\u001B[43m,\u001B[49m\u001B[43m \u001B[49m\u001B[43msize\u001B[49m\u001B[43m,\u001B[49m\u001B[43m \u001B[49m\u001B[43mdecoder_name\u001B[49m\u001B[43m,\u001B[49m\u001B[43m \u001B[49m\u001B[38;5;241;43m0\u001B[39;49m\u001B[43m,\u001B[49m\u001B[43m \u001B[49m\u001B[43margs\u001B[49m\u001B[43m)\u001B[49m)\n\u001B[1;32m   2933\u001B[0m     \u001B[38;5;28;01mif\u001B[39;00m mode \u001B[38;5;241m==\u001B[39m \u001B[38;5;124m\"\u001B[39m\u001B[38;5;124mP\u001B[39m\u001B[38;5;124m\"\u001B[39m:\n\u001B[1;32m   2934\u001B[0m         \u001B[38;5;28;01mfrom\u001B[39;00m \u001B[38;5;21;01m.\u001B[39;00m \u001B[38;5;28;01mimport\u001B[39;00m ImagePalette\n",
      "\u001B[0;31mValueError\u001B[0m: buffer is not large enough"
     ]
    }
   ],
   "source": [
    " #plot losses\n",
    "\n",
    "plt.plot(classification_losses)\n",
    "plt.title('Loss')\n",
    "plt.xlabel('batch')\n",
    "plt.ylabel('loss')\n",
    "plt.show()\n",
    "\n",
    "plt.imsave('classification_losses.png', classification_losses)\n",
    "\n",
    "\n"
   ]
  },
  {
   "cell_type": "code",
   "execution_count": 8,
   "id": "fddc34831e5c95f0",
   "metadata": {
    "collapsed": false,
    "ExecuteTime": {
     "end_time": "2023-11-10T08:51:30.181307Z",
     "start_time": "2023-11-10T08:51:30.090464Z"
    }
   },
   "outputs": [
    {
     "data": {
      "text/plain": "<Figure size 640x480 with 1 Axes>",
      "image/png": "[encoded data removed]"
     },
     "metadata": {},
     "output_type": "display_data"
    }
   ],
   "source": [
    "# plot accuracies\n",
    "\n",
    "plt.plot(classification_accuracies)\n",
    "plt.title('Accuracy')\n",
    "plt.xlabel('batch')\n",
    "plt.ylabel('accuracy')\n",
    "plt.show()\n",
    "\n",
    "plt.imsave('classification_accuracies.png', classification_accuracies)\n"
   ]
  },
  {
   "cell_type": "code",
   "execution_count": 9,
   "id": "314d132aeaa01685",
   "metadata": {
    "collapsed": false,
    "ExecuteTime": {
     "end_time": "2023-11-10T08:54:57.760070Z",
     "start_time": "2023-11-10T08:51:30.177068Z"
    }
   },
   "outputs": [
    {
     "data": {
      "text/plain": "  0%|          | 0/938 [00:00<?, ?it/s]",
      "application/vnd.jupyter.widget-view+json": {
       "version_major": 2,
       "version_minor": 0,
       "model_id": "7a0f29ec119c43fe8f932b6d342512b5"
      }
     },
     "metadata": {},
     "output_type": "display_data"
    },
    {
     "name": "stdout",
     "output_type": "stream",
     "text": [
      "\n",
      "Test set: Average loss: 0.0018, Accuracy: 7091/10000 (71%)\n"
     ]
    },
    {
     "data": {
      "text/plain": "  0%|          | 0/938 [00:00<?, ?it/s]",
      "application/vnd.jupyter.widget-view+json": {
       "version_major": 2,
       "version_minor": 0,
       "model_id": "8e689c62fa1f4de48b7715e1b8365284"
      }
     },
     "metadata": {},
     "output_type": "display_data"
    },
    {
     "name": "stdout",
     "output_type": "stream",
     "text": [
      "\n",
      "Test set: Average loss: 0.0017, Accuracy: 7587/10000 (76%)\n"
     ]
    },
    {
     "data": {
      "text/plain": "  0%|          | 0/938 [00:00<?, ?it/s]",
      "application/vnd.jupyter.widget-view+json": {
       "version_major": 2,
       "version_minor": 0,
       "model_id": "1fb303ec46c24d7aaa6b2d39e9eef94e"
      }
     },
     "metadata": {},
     "output_type": "display_data"
    },
    {
     "name": "stdout",
     "output_type": "stream",
     "text": [
      "\n",
      "Test set: Average loss: 0.0017, Accuracy: 7961/10000 (80%)\n"
     ]
    }
   ],
   "source": [
    "encoder_test = ViT(in_channels=1, n_classes=10, img_size=img_size,\n",
    "            depth=3, emb_size=192)\n",
    "\n",
    "decoder_test = ClassificationHead(emb_size=192, n_classes=10)\n",
    "\n",
    "\n",
    "classificationModel_test = torch.nn.Sequential(\n",
    "    encoder_test, decoder_test\n",
    ")\n",
    "\n",
    "\n",
    "classification_loss_test = torch.nn.CrossEntropyLoss()\n",
    "classification_optimizer_test = torch.optim.SGD(classificationModel_test.parameters(), lr=learning_rate,\n",
    "                            momentum=momentum)\n",
    "\n",
    "\n",
    "classification_losses_test = []\n",
    "classification_accuracies_test = []\n",
    "\n",
    "for epoch in range(n_epochs):\n",
    "    for batch_idx, (data, target) in enumerate(tqdm(classification_train_loader)):\n",
    "        classification_optimizer_test.zero_grad()\n",
    "        output = classificationModel_test(data)\n",
    "        #print(output.shape, target.shape)\n",
    "        #print(output)\n",
    "        loss_val_test = classification_loss_test(output, target)\n",
    "        #print(loss_val)\n",
    "        \n",
    "        loss_val_test.backward()\n",
    "        classification_optimizer_test.step()\n",
    "\n",
    "        classification_losses_test.append(loss_val.item())\n",
    "        classification_accuracies_test.append((output.argmax(dim=1) == target).float().mean().item())\n",
    "    \n",
    "    test_loss_test = 0\n",
    "    correct_test = 0\n",
    "    classificationModel.eval()\n",
    "    with torch.no_grad():\n",
    "        for data, target in test_loader:\n",
    "            output = classificationModel_test(data)\n",
    "            test_loss_test += classification_loss_test(output, target).item()\n",
    "            pred_test = output.argmax(dim=1, keepdim=True)\n",
    "            correct_test += pred_test.eq(target.view_as(pred_test)).sum().item()\n",
    "\n",
    "    test_loss_test /= len(test_loader.dataset)\n",
    "    print('\\nTest set: Average loss: {:.4f}, Accuracy: {}/{} ({:.0f}%)\\n'\n",
    "        .format(test_loss_test, correct_test, len(test_loader.dataset), 100. * correct_test / len(test_loader.dataset)))"
   ]
  },
  {
   "cell_type": "code",
   "execution_count": 9,
   "id": "3102d4b645193a4d",
   "metadata": {
    "ExecuteTime": {
     "end_time": "2023-11-10T08:54:57.763562Z",
     "start_time": "2023-11-10T08:54:57.759939Z"
    }
   },
   "outputs": [],
   "source": []
  },
  {
   "cell_type": "code",
   "execution_count": 9,
   "id": "57a1e48e08a38ccc",
   "metadata": {
    "ExecuteTime": {
     "end_time": "2023-11-10T08:54:57.764184Z",
     "start_time": "2023-11-10T08:54:57.762336Z"
    }
   },
   "outputs": [],
   "source": []
  }
 ],
 "metadata": {
  "kernelspec": {
   "display_name": "Python 3",
   "language": "python",
   "name": "python3"
  },
  "language_info": {
   "codemirror_mode": {
    "name": "ipython",
    "version": 3
   },
   "file_extension": ".py",
   "mimetype": "text/x-python",
   "name": "python",
   "nbconvert_exporter": "python",
   "pygments_lexer": "ipython3",
   "version": "3.10.13"
  }
 },
 "nbformat": 4,
 "nbformat_minor": 5
}
